{
 "cells": [
  {
   "cell_type": "markdown",
   "metadata": {},
   "source": [
    "# FUNCTIONS"
   ]
  },
  {
   "cell_type": "raw",
   "metadata": {},
   "source": [
    "Function is a group of related statements that perform a specific task.\n",
    "\n",
    "Functions help break our program into smaller and modular chunks. \n",
    "\n",
    "As our program grows larger and larger, functions make it more organized and manageable.\n",
    "\n",
    "Most Important, it avoids repetition and makes code reusable.\n"
   ]
  },
  {
   "cell_type": "raw",
   "metadata": {},
   "source": [
    "def function_name(parameters):\n",
    "\t\"\"\"docstring\"\"\"\n",
    "\tstatement(s)"
   ]
  },
  {
   "cell_type": "code",
   "execution_count": 1,
   "metadata": {},
   "outputs": [],
   "source": [
    "def greet(name):\n",
    "\t\"\"\"This function greets to\n",
    "\tthe person passed in as\n",
    "\tparameter\"\"\"\n",
    "\tprint(\"Hello, \" + name + \". Good morning!\")"
   ]
  },
  {
   "cell_type": "code",
   "execution_count": 2,
   "metadata": {},
   "outputs": [
    {
     "name": "stdout",
     "output_type": "stream",
     "text": [
      "Hello, John. Good morning!\n"
     ]
    }
   ],
   "source": [
    "greet('John')"
   ]
  },
  {
   "cell_type": "markdown",
   "metadata": {},
   "source": [
    "The first string after the function header is called the docstring and is short for documentation string. \n",
    "\n",
    "It is used to explain in brief, what a function does.\n",
    "\n",
    "This string is available to use as __doc__ attribute of the function.\n"
   ]
  },
  {
   "cell_type": "code",
   "execution_count": 3,
   "metadata": {},
   "outputs": [
    {
     "name": "stdout",
     "output_type": "stream",
     "text": [
      "This function greets to\n",
      "\tthe person passed in as\n",
      "\tparameter\n"
     ]
    }
   ],
   "source": [
    "print(greet.__doc__)"
   ]
  },
  {
   "cell_type": "raw",
   "metadata": {},
   "source": [
    "The return statement is used to exit a function and go back to the place from where it was called.\n",
    "\n",
    "If there is no expression in the statement or the return statement itself is not present inside a function, \n",
    "then the function will return the None object.\n"
   ]
  },
  {
   "cell_type": "code",
   "execution_count": 4,
   "metadata": {},
   "outputs": [
    {
     "name": "stdout",
     "output_type": "stream",
     "text": [
      "Hello, Tom. Good morning!\n",
      "None\n"
     ]
    }
   ],
   "source": [
    "print(greet(\"Tom\"))"
   ]
  },
  {
   "cell_type": "code",
   "execution_count": 5,
   "metadata": {},
   "outputs": [],
   "source": [
    "def absolute_value(num):\n",
    "\t\"\"\"This function returns the absolute\n",
    "\tvalue of the entered number\"\"\"\n",
    "\n",
    "\tif num >= 0:\n",
    "\t\treturn num\n",
    "\telse:\n",
    "\t\treturn -num\n",
    "\n"
   ]
  },
  {
   "cell_type": "code",
   "execution_count": 6,
   "metadata": {},
   "outputs": [
    {
     "name": "stdout",
     "output_type": "stream",
     "text": [
      "2\n",
      "4\n"
     ]
    }
   ],
   "source": [
    "# Output:\n",
    "print(absolute_value(2))\n",
    "\n",
    "# Output:\n",
    "print(absolute_value(-4))"
   ]
  },
  {
   "cell_type": "markdown",
   "metadata": {},
   "source": [
    "### Scope of Variables"
   ]
  },
  {
   "cell_type": "code",
   "execution_count": 14,
   "metadata": {},
   "outputs": [
    {
     "name": "stdout",
     "output_type": "stream",
     "text": [
      "Value outside function: 20\n",
      "Value inside function: 10\n"
     ]
    }
   ],
   "source": [
    "def my_func():\n",
    "    \n",
    "    x = 10; \n",
    "    print(\"Value inside function:\",x)\n",
    "\n",
    "x = 20\n",
    "\n",
    "print(\"Value outside function:\",x)\n",
    "my_func()"
   ]
  },
  {
   "cell_type": "markdown",
   "metadata": {},
   "source": [
    "### Arguments"
   ]
  },
  {
   "cell_type": "code",
   "execution_count": 15,
   "metadata": {},
   "outputs": [],
   "source": [
    "def greet(name,msg):\n",
    "   \"\"\"This function greets to\n",
    "   the person with the provided message\"\"\"\n",
    "   print(\"Hello\",name + ', ' + msg)\n"
   ]
  },
  {
   "cell_type": "code",
   "execution_count": 20,
   "metadata": {},
   "outputs": [
    {
     "name": "stdout",
     "output_type": "stream",
     "text": [
      "Hello Tom, 89\n"
     ]
    }
   ],
   "source": [
    "\n",
    "greet(\"Tom\", \"89\")"
   ]
  },
  {
   "cell_type": "markdown",
   "metadata": {},
   "source": [
    "### Default Arguments"
   ]
  },
  {
   "cell_type": "raw",
   "metadata": {},
   "source": [
    "We can provide a default value to an argument by using the assignment operator (=)."
   ]
  },
  {
   "cell_type": "code",
   "execution_count": 29,
   "metadata": {},
   "outputs": [],
   "source": [
    "def greet(name, msg = \"Good morning!\"):\n",
    "    #print(msg, name )\n",
    "   \n",
    "    \"\"\"\n",
    "   This function greets to\n",
    "   the person with the\n",
    "   provided message.\n",
    "\n",
    "   If message is not provided,\n",
    "   it defaults to \"Good\n",
    "   morning!\"\n",
    "   \"\"\"\n",
    "   \n",
    "    print(\"Hello\",name + ', ' + msg)"
   ]
  },
  {
   "cell_type": "code",
   "execution_count": 30,
   "metadata": {},
   "outputs": [
    {
     "name": "stdout",
     "output_type": "stream",
     "text": [
      "Hello Kate, Good morning!\n",
      "Hello Bruce, How do you do?\n"
     ]
    }
   ],
   "source": [
    "greet(\"Kate\")\n",
    "greet(\"Bruce\",\"How do you do?\")"
   ]
  },
  {
   "cell_type": "raw",
   "metadata": {},
   "source": [
    "All the default arguments must be on right side..!\n",
    "Below example will create an error. Swap the argument positions and correct it."
   ]
  },
  {
   "cell_type": "code",
   "execution_count": 33,
   "metadata": {},
   "outputs": [
    {
     "ename": "SyntaxError",
     "evalue": "non-default argument follows default argument (<ipython-input-33-d396d735017d>, line 1)",
     "output_type": "error",
     "traceback": [
      "\u001b[1;36m  File \u001b[1;32m\"<ipython-input-33-d396d735017d>\"\u001b[1;36m, line \u001b[1;32m1\u001b[0m\n\u001b[1;33m    def greet(msg = \"Good morning!\", name):\u001b[0m\n\u001b[1;37m             ^\u001b[0m\n\u001b[1;31mSyntaxError\u001b[0m\u001b[1;31m:\u001b[0m non-default argument follows default argument\n"
     ]
    }
   ],
   "source": [
    "def greet(msg = \"Good morning!\", name):\n",
    "   \"\"\"\n",
    "   This function greets to\n",
    "   the person with the\n",
    "   provided message.\n",
    "\n",
    "   If message is not provided,\n",
    "   it defaults to \"Good\n",
    "   morning!\"\n",
    "   \"\"\"\n",
    "\n",
    "   print(\"Hello\",name + ', ' + msg)\n",
    "\n",
    "greet(\"Kate\")\n",
    "greet(\"Bruce\",\"How do you do?\")"
   ]
  },
  {
   "cell_type": "markdown",
   "metadata": {},
   "source": [
    "### Arbitrary Arguments"
   ]
  },
  {
   "cell_type": "raw",
   "metadata": {},
   "source": [
    "Sometimes, we do not know in advance the number of arguments that will be passed into a function.\n",
    "\n",
    "Python allows us to handle this kind of situation through function calls with arbitrary number of arguments.\n",
    "\n",
    "In the function definition we use an asterisk (*) before the parameter name to denote this kind of argument.\n"
   ]
  },
  {
   "cell_type": "code",
   "execution_count": 40,
   "metadata": {},
   "outputs": [],
   "source": [
    "def greet(*names):\n",
    "   \"\"\"This function greets all\n",
    "   the person in the names tuple.\"\"\"\n",
    "   msg = \", How r u ??\"\n",
    "   # names is a tuple with arguments\n",
    "   for name in names: \n",
    "        print(\"Hello\",name, msg)\n",
    "\n"
   ]
  },
  {
   "cell_type": "code",
   "execution_count": 41,
   "metadata": {},
   "outputs": [
    {
     "name": "stdout",
     "output_type": "stream",
     "text": [
      "Hello Monica , How r u ??\n",
      "Hello Luke , How r u ??\n",
      "Hello Steve , How r u ??\n",
      "Hello John , How r u ??\n"
     ]
    }
   ],
   "source": [
    "greet(\"Monica\",\"Luke\",\"Steve\",\"John\")"
   ]
  },
  {
   "cell_type": "raw",
   "metadata": {},
   "source": [
    "Here, we have called the function with multiple arguments. \n",
    "\n",
    "These arguments get wrapped up into a tuple before being passed into the function. \n",
    "\n",
    "Inside the function, we use a for loop to retrieve all the arguments back."
   ]
  },
  {
   "cell_type": "code",
   "execution_count": null,
   "metadata": {},
   "outputs": [],
   "source": []
  }
 ],
 "metadata": {
  "kernelspec": {
   "display_name": "Python 3",
   "language": "python",
   "name": "python3"
  },
  "language_info": {
   "codemirror_mode": {
    "name": "ipython",
    "version": 3
   },
   "file_extension": ".py",
   "mimetype": "text/x-python",
   "name": "python",
   "nbconvert_exporter": "python",
   "pygments_lexer": "ipython3",
   "version": "3.7.3"
  }
 },
 "nbformat": 4,
 "nbformat_minor": 2
}
