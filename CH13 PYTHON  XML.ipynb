{
 "cells": [
  {
   "cell_type": "markdown",
   "metadata": {},
   "source": [
    "The XML tree structure makes navigation, modification, and removal relatively simple programmatically. Python has a built in library, ElementTree, that has functions to read and manipulate XMLs (and other similarly structured files)."
   ]
  },
  {
   "cell_type": "code",
   "execution_count": 1,
   "metadata": {},
   "outputs": [],
   "source": [
    "import os\n",
    "os.chdir(\"C:\\RILPY\")\n",
    "\n",
    "import xml.etree.ElementTree as ET"
   ]
  },
  {
   "cell_type": "markdown",
   "metadata": {},
   "source": [
    "### Parsing XML data"
   ]
  },
  {
   "cell_type": "code",
   "execution_count": 2,
   "metadata": {},
   "outputs": [],
   "source": [
    "tree = ET.parse('bcs.xml')\n",
    "root = tree.getroot()"
   ]
  },
  {
   "cell_type": "code",
   "execution_count": 3,
   "metadata": {},
   "outputs": [
    {
     "data": {
      "text/plain": [
       "'BusinessCards'"
      ]
     },
     "execution_count": 3,
     "metadata": {},
     "output_type": "execute_result"
    }
   ],
   "source": [
    "root.tag"
   ]
  },
  {
   "cell_type": "code",
   "execution_count": 4,
   "metadata": {},
   "outputs": [
    {
     "data": {
      "text/plain": [
       "{}"
      ]
     },
     "execution_count": 4,
     "metadata": {},
     "output_type": "execute_result"
    }
   ],
   "source": [
    "root.attrib"
   ]
  },
  {
   "cell_type": "markdown",
   "metadata": {},
   "source": [
    "You can easily iterate over subelements (commonly called \"children\") in the root by using a simple \"for\" loop."
   ]
  },
  {
   "cell_type": "code",
   "execution_count": 5,
   "metadata": {},
   "outputs": [
    {
     "name": "stdout",
     "output_type": "stream",
     "text": [
      "BusinessCard {}\n",
      "BusinessCard {}\n"
     ]
    }
   ],
   "source": [
    "for child in root:\n",
    "    print(child.tag, child.attrib)"
   ]
  },
  {
   "cell_type": "markdown",
   "metadata": {},
   "source": [
    "Typically it is helpful to know all the elements in the entire tree. One useful function for doing that is root.iter(). You can put this function into a \"for\" loop and it will iterate over the entire tree."
   ]
  },
  {
   "cell_type": "code",
   "execution_count": 6,
   "metadata": {},
   "outputs": [
    {
     "data": {
      "text/plain": [
       "['BusinessCards',\n",
       " 'BusinessCard',\n",
       " 'Name',\n",
       " 'phone',\n",
       " 'phone',\n",
       " 'phone',\n",
       " 'email',\n",
       " 'BusinessCard',\n",
       " 'Name',\n",
       " 'phone',\n",
       " 'phone',\n",
       " 'phone',\n",
       " 'email']"
      ]
     },
     "execution_count": 6,
     "metadata": {},
     "output_type": "execute_result"
    }
   ],
   "source": [
    "[elem.tag for elem in root.iter()]"
   ]
  },
  {
   "cell_type": "markdown",
   "metadata": {},
   "source": [
    "This gives a general notion for how many elements you have, but it does not show the attributes or levels in the tree.\n",
    "\n",
    "There is a helpful way to see the whole document. Any element has a .tostring() method. If you pass the root into the .tostring() method, you can return the whole document. Within ElementTree (remember aliased as ET), .tostring() takes a slightly strange form.\n",
    "\n",
    "Since ElementTree is a powerful library that can interpret more than just XML, you must specify both the encoding and decoding of the document you are displaying as the string. For XMLs, use 'utf8' - this is the typical document format type for an XML.\n",
    "\n"
   ]
  },
  {
   "cell_type": "code",
   "execution_count": 7,
   "metadata": {},
   "outputs": [
    {
     "name": "stdout",
     "output_type": "stream",
     "text": [
      "<?xml version='1.0' encoding='utf8'?>\n",
      "<BusinessCards>\n",
      "   <BusinessCard>\n",
      "      <Name>Joe Marini</Name>\n",
      "      <phone type=\"mobile\">(415) 555-4567</phone>\n",
      "      <phone type=\"work\">(800) 555-9876</phone>\n",
      "      <phone type=\"fax\">(510) 555-1234</phone>\n",
      "      <email>joe@joe.com</email>\n",
      "   </BusinessCard>\n",
      "\n",
      "   <BusinessCard>\n",
      "      <Name>Someone Else</Name>\n",
      "      <phone type=\"mobile\">(415) 555-0000</phone>\n",
      "      <phone primary=\"primary\" type=\"work\">(800) 555-1111</phone>\n",
      "      <phone type=\"fax\">(510) 555-2222</phone>\n",
      "      <email>someone@else.com</email>\n",
      "   </BusinessCard>\n",
      "</BusinessCards>\n"
     ]
    }
   ],
   "source": [
    "print(ET.tostring(root, encoding='utf8').decode('utf8'))"
   ]
  },
  {
   "cell_type": "markdown",
   "metadata": {},
   "source": [
    "You can expand the use of the iter() function to help with finding particular elements of interest. root.iter() will list all subelements under the root that match the element specified. Here, you will list all attributes of the REGION element in the tree:"
   ]
  },
  {
   "cell_type": "code",
   "execution_count": 8,
   "metadata": {},
   "outputs": [
    {
     "name": "stdout",
     "output_type": "stream",
     "text": [
      "{'type': 'mobile'}\n",
      "{'type': 'work'}\n",
      "{'type': 'fax'}\n",
      "{'type': 'mobile'}\n",
      "{'type': 'work', 'primary': 'primary'}\n",
      "{'type': 'fax'}\n"
     ]
    }
   ],
   "source": [
    "for phone in root.iter('phone'):\n",
    "    print(phone.attrib)"
   ]
  },
  {
   "cell_type": "code",
   "execution_count": null,
   "metadata": {},
   "outputs": [],
   "source": []
  },
  {
   "cell_type": "code",
   "execution_count": null,
   "metadata": {},
   "outputs": [],
   "source": []
  }
 ],
 "metadata": {
  "kernelspec": {
   "display_name": "Python 3",
   "language": "python",
   "name": "python3"
  },
  "language_info": {
   "codemirror_mode": {
    "name": "ipython",
    "version": 3
   },
   "file_extension": ".py",
   "mimetype": "text/x-python",
   "name": "python",
   "nbconvert_exporter": "python",
   "pygments_lexer": "ipython3",
   "version": "3.6.5"
  }
 },
 "nbformat": 4,
 "nbformat_minor": 2
}
