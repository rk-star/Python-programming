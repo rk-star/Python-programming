{
 "cells": [
  {
   "cell_type": "markdown",
   "metadata": {},
   "source": [
    "# LOOPS"
   ]
  },
  {
   "cell_type": "markdown",
   "metadata": {},
   "source": [
    "## FOR LOOPS"
   ]
  },
  {
   "cell_type": "raw",
   "metadata": {},
   "source": [
    "The for loop in Python is used to iterate over a sequence (list, tuple, string) or other iterable objects. \n",
    "\n",
    "Iterating over a sequence is called traversal.\n",
    "\n",
    "for val in sequence:\n",
    "\tBody of for\n",
    "\n"
   ]
  },
  {
   "cell_type": "code",
   "execution_count": null,
   "metadata": {},
   "outputs": [],
   "source": [
    "# Program to find the sum of all numbers stored in a list\n",
    "\n",
    "# List of numbers\n",
    "numbers = [6, 5, 3, 8, 4, 2, 5, 4, 11]\n",
    "#list1 = list(\"Hello\")\n",
    "\n",
    "# variable to store the sum\n",
    "sum = 0\n",
    "\n",
    "# iterate over the list\n",
    "for val in numbers:\n",
    "    sum = sum+val\n",
    "    print(sum)\n",
    "\n",
    "# Output: \n",
    "print(\"The sum is\", sum)"
   ]
  },
  {
   "cell_type": "markdown",
   "metadata": {},
   "source": [
    "### range() Function"
   ]
  },
  {
   "cell_type": "raw",
   "metadata": {},
   "source": [
    "We can generate a sequence of numbers using range() function.\n",
    "\n",
    "We can also define the start, stop and step size as range(start,stop,step size). \n",
    "\n",
    "step size defaults to 1 if not provided.\n",
    "\n"
   ]
  },
  {
   "cell_type": "code",
   "execution_count": null,
   "metadata": {},
   "outputs": [],
   "source": [
    "# Output: range(0, 10)\n",
    "print(range(10))\n",
    "\n",
    "# Output: [0, 1, 2, 3, 4, 5, 6, 7, 8, 9]\n",
    "print(list(range(10)))\n",
    "\n",
    "# Output: [2, 3, 4, 5, 6, 7]\n",
    "print(list(range(2, 8)))\n",
    "\n",
    "# Output: [2, 5, 8, 11, 14, 17]\n",
    "print(list(range(2, 20, 3)))"
   ]
  },
  {
   "cell_type": "raw",
   "metadata": {},
   "source": [
    "We can use the range() function in for loops to iterate through a sequence of numbers.\n",
    "\n",
    "It can be combined with the len() function to iterate though a sequence using indexing.\n"
   ]
  },
  {
   "cell_type": "code",
   "execution_count": null,
   "metadata": {},
   "outputs": [],
   "source": [
    "# Program to iterate through a list using indexing\n",
    "\n",
    "genre = ['pop', 'rock', 'jazz']\n",
    "\n",
    "# iterate over the list using index\n",
    "for i in range(len(genre)):\n",
    "    print(\"I like\", genre[i])"
   ]
  },
  {
   "cell_type": "code",
   "execution_count": null,
   "metadata": {},
   "outputs": [],
   "source": [
    "for i in genre:\n",
    "    print(\"I like\" , i)"
   ]
  },
  {
   "cell_type": "markdown",
   "metadata": {},
   "source": [
    "### for loop with else"
   ]
  },
  {
   "cell_type": "code",
   "execution_count": null,
   "metadata": {},
   "outputs": [],
   "source": [
    "digits = [0, 1, 5]\n",
    "\n",
    "for i in digits:\n",
    "    print(i)\n",
    "else:\n",
    "    print(\"No items left.\")"
   ]
  },
  {
   "cell_type": "markdown",
   "metadata": {},
   "source": [
    "## WHILE LOOP"
   ]
  },
  {
   "cell_type": "raw",
   "metadata": {},
   "source": [
    "while test_expression:\n",
    "    Body of while"
   ]
  },
  {
   "cell_type": "code",
   "execution_count": null,
   "metadata": {},
   "outputs": [],
   "source": [
    "m = [1, None, 12, 15, None]\n",
    "for x in m:\n",
    "    while x:\n",
    "        print(x**2)\n",
    "        break\n",
    "        \n",
    "        "
   ]
  },
  {
   "cell_type": "raw",
   "metadata": {},
   "source": [
    "In while loop, test expression is checked first. \n",
    "The body of the loop is entered only if the test_expression evaluates to True. \n",
    "After one iteration, the test expression is checked again. \n",
    "This process continues until the test_expression evaluates to False.\n",
    "\n",
    "Python interprets any non-zero value as True. None and 0 are interpreted as False.\n"
   ]
  },
  {
   "cell_type": "code",
   "execution_count": null,
   "metadata": {},
   "outputs": [],
   "source": [
    "# Program to add natural\n",
    "# numbers upto \n",
    "# sum = 1+2+3+...+n\n",
    "\n",
    "# To take input from the user,\n",
    "n = int(input(\"Enter n: \"))\n",
    "\n",
    "# n = 10\n",
    "\n",
    "# initialize sum and counter\n",
    "sum = 0\n",
    "i = 1\n",
    "\n",
    "while i <= n:\n",
    "    sum = sum + i\n",
    "    i = i+1    # update counter\n",
    "\n",
    "# print the sum\n",
    "print(\"The sum is\", sum)"
   ]
  },
  {
   "cell_type": "markdown",
   "metadata": {},
   "source": [
    "### While Loop with Else"
   ]
  },
  {
   "cell_type": "code",
   "execution_count": null,
   "metadata": {},
   "outputs": [],
   "source": [
    "# Example to illustrate\n",
    "# the use of else statement\n",
    "# with the while loop\n",
    "\n",
    "counter = 0\n",
    "\n",
    "while counter < 3:\n",
    "    print(\"Inside loop\")\n",
    "    counter = counter + 1\n",
    "else:\n",
    "    print(\"Inside else\")"
   ]
  },
  {
   "cell_type": "markdown",
   "metadata": {},
   "source": [
    "### Break and Continue Statements"
   ]
  },
  {
   "cell_type": "raw",
   "metadata": {},
   "source": [
    "In Python, break and continue statements can alter the flow of a normal loop.\n",
    "\n",
    "Loops iterate over a block of code until test expression is false, \n",
    "but sometimes we wish to terminate the current iteration or even the whole loop without checking test expression."
   ]
  },
  {
   "cell_type": "code",
   "execution_count": null,
   "metadata": {},
   "outputs": [],
   "source": [
    "\n",
    "for val in \"string\":\n",
    "    if val == \"i\":\n",
    "        break\n",
    "    print(val)\n",
    "\n",
    "print(\"The end\")"
   ]
  },
  {
   "cell_type": "raw",
   "metadata": {},
   "source": [
    "The continue statement is used to skip the rest of the code inside a loop for the current iteration only. \n",
    "\n",
    "Loop does not terminate but continues on with the next iteration.\n"
   ]
  },
  {
   "cell_type": "code",
   "execution_count": null,
   "metadata": {},
   "outputs": [],
   "source": [
    "# Program to show the use of continue statement inside loops\n",
    "\n",
    "for val in \"string\":\n",
    "    if val == \"i\":\n",
    "        continue\n",
    "    print(val)\n",
    "\n",
    "print(\"The end\")"
   ]
  },
  {
   "cell_type": "markdown",
   "metadata": {},
   "source": [
    "### Pass Statements"
   ]
  },
  {
   "cell_type": "raw",
   "metadata": {},
   "source": [
    "In Python programming, pass is a null statement. \n",
    "\n",
    "The difference between a comment and pass statement in Python is that, \n",
    "while the interpreter ignores a comment entirely, pass is not ignored.\n",
    "\n",
    "However, nothing happens when pass is executed. It results into no operation (NOP).\n"
   ]
  },
  {
   "cell_type": "raw",
   "metadata": {},
   "source": [
    "We generally use it as a placeholder.\n",
    "\n",
    "Suppose we have a loop or a function that is not implemented yet, but we want to implement it in the future. \n",
    "\n",
    "They cannot have an empty body. The interpreter would complain. \n",
    "\n",
    "So, we use the pass statement to construct a body that does nothing."
   ]
  },
  {
   "cell_type": "code",
   "execution_count": null,
   "metadata": {},
   "outputs": [],
   "source": [
    "# pass is just a placeholder for\n",
    "# functionality to be added later.\n",
    "sequence = {'p', 'a', 's', 's'}\n",
    "for val in sequence:\n",
    "    pass"
   ]
  },
  {
   "cell_type": "raw",
   "metadata": {},
   "source": [
    "We can do the same thing in an empty function or class as well."
   ]
  },
  {
   "cell_type": "code",
   "execution_count": null,
   "metadata": {},
   "outputs": [],
   "source": []
  }
 ],
 "metadata": {
  "kernelspec": {
   "display_name": "Python 3",
   "language": "python",
   "name": "python3"
  },
  "language_info": {
   "codemirror_mode": {
    "name": "ipython",
    "version": 3
   },
   "file_extension": ".py",
   "mimetype": "text/x-python",
   "name": "python",
   "nbconvert_exporter": "python",
   "pygments_lexer": "ipython3",
   "version": "3.7.3"
  }
 },
 "nbformat": 4,
 "nbformat_minor": 2
}
